{
 "cells": [
  {
   "cell_type": "markdown",
   "id": "a4f04d3f",
   "metadata": {},
   "source": [
    "# Task M2 T02"
   ]
  },
  {
   "cell_type": "markdown",
   "id": "82e70839",
   "metadata": {},
   "source": [
    "## Exercise 1"
   ]
  },
  {
   "cell_type": "markdown",
   "id": "385132e9",
   "metadata": {},
   "source": [
    "Create a program that classifies numeric variables into \"Suspès\", \"Aprovat\", \"Notable\" and \"Excel·lent\"."
   ]
  },
  {
   "cell_type": "code",
   "execution_count": 1,
   "id": "3c1f76cb",
   "metadata": {},
   "outputs": [],
   "source": [
    "# Function get_grade()\n",
    "def get_grade():\n",
    "    grade = float(input(\"Enter a grade: \"))\n",
    "    if grade < 0 or grade > 10:\n",
    "        print(\"ERROR: The grade introduced is out of range!\")\n",
    "        grade = get_grade()\n",
    "    return grade\n",
    "\n",
    "# Function get_final_grade()\n",
    "def get_final_grade(number):\n",
    "    if number < 5: finalGrade = \"Suspès\"\n",
    "    elif number < 7: finalGrade = \"Aprovat\"\n",
    "    elif number < 9: finalGrade = \"Notable\"\n",
    "    else: finalGrade = \"Excel·lent\"\n",
    "       \n",
    "    return finalGrade"
   ]
  },
  {
   "cell_type": "code",
   "execution_count": 2,
   "id": "8452d15f",
   "metadata": {},
   "outputs": [
    {
     "name": "stdout",
     "output_type": "stream",
     "text": [
      "Enter a grade: -1\n",
      "ERROR: The grade introduced is out of range!\n",
      "Enter a grade: 11\n",
      "ERROR: The grade introduced is out of range!\n",
      "Enter a grade: 7.8\n",
      "Final grade: Notable\n"
     ]
    }
   ],
   "source": [
    "# TEST\n",
    "grade = get_grade()\n",
    "print(\"Final grade: {}\".format(get_final_grade(grade)))"
   ]
  },
  {
   "cell_type": "markdown",
   "id": "122ddb2c",
   "metadata": {},
   "source": [
    "## Exercise 2"
   ]
  },
  {
   "cell_type": "markdown",
   "id": "e9bf689b",
   "metadata": {},
   "source": [
    "Create a program that asks for two numbers. The program have to return if the first number is bigger, smaller o equal to the second one."
   ]
  },
  {
   "cell_type": "code",
   "execution_count": 3,
   "id": "d102c6db",
   "metadata": {},
   "outputs": [],
   "source": [
    "# Function get_number\n",
    "def get_number():\n",
    "    number = float(input(\"Enter a number: \"))\n",
    "    return number\n",
    "\n",
    "# Function compare_numbers()\n",
    "def compare_numbers(firstNum, secondNum):\n",
    "    if firstNum > secondNum:\n",
    "        comparison = \"bigger than\"\n",
    "    elif firstNum < secondNum:\n",
    "        comparison = \"smaller than\"\n",
    "    else:\n",
    "        comparison = \"equal than\"\n",
    "    sentence = \"The first number ({}) is {} the second number ({}).\".format(firstNum, comparison, secondNum)\n",
    "    return sentence"
   ]
  },
  {
   "cell_type": "code",
   "execution_count": 4,
   "id": "d22ca556",
   "metadata": {},
   "outputs": [
    {
     "name": "stdout",
     "output_type": "stream",
     "text": [
      "Enter a number: 1\n",
      "Enter a number: 3\n",
      "The first number (1.0) is smaller than the second number (3.0).\n"
     ]
    }
   ],
   "source": [
    "# TESTS\n",
    "firstNum = get_number()\n",
    "secondNum = get_number()\n",
    "\n",
    "print(compare_numbers(firstNum, secondNum))"
   ]
  },
  {
   "cell_type": "markdown",
   "id": "99a9c0e0",
   "metadata": {},
   "source": [
    "## Exercise 3"
   ]
  },
  {
   "cell_type": "markdown",
   "id": "7a618c9d",
   "metadata": {},
   "source": [
    "Create a program that asks your name and a number. If the number is 0, it should show an error message. If not, it should show the name as many times as the number introduced."
   ]
  },
  {
   "cell_type": "code",
   "execution_count": 5,
   "id": "28f36053",
   "metadata": {},
   "outputs": [],
   "source": [
    "# Function get_name()\n",
    "def get_name():\n",
    "    name = input(\"Enter your name: \") + \" \"\n",
    "    return name\n",
    "\n",
    "# Function get_num_repetitions()\n",
    "def get_num_repetitions():\n",
    "    number =  int(input(\"Enter how many times would you like to repeat your name: \"))\n",
    "    if number <= 0:\n",
    "        print(\"ERROR! Number of repetitions cannot be smaller than 1!\")\n",
    "        number = get_num_repetitions()\n",
    "    return number\n",
    "\n",
    "# Function repeat_name()\n",
    "def repeat_name(name, number):\n",
    "    sentence = \"\"\n",
    "    for i in range(number):\n",
    "        sentence += name\n",
    "    return sentence"
   ]
  },
  {
   "cell_type": "code",
   "execution_count": 6,
   "id": "fef4aa7a",
   "metadata": {},
   "outputs": [
    {
     "name": "stdout",
     "output_type": "stream",
     "text": [
      "Enter your name: David\n",
      "Enter how many times would you like to repeat your name: 0\n",
      "ERROR! Number of repetitions cannot be smaller than 1!\n",
      "Enter how many times would you like to repeat your name: 3\n",
      "Result: David David David \n"
     ]
    }
   ],
   "source": [
    "# TESTS\n",
    "name = get_name()\n",
    "number = get_num_repetitions()\n",
    "print(\"Result: {}\".format(repeat_name(name, number)))"
   ]
  },
  {
   "cell_type": "markdown",
   "id": "1f178315",
   "metadata": {},
   "source": [
    "## Exercise 4"
   ]
  },
  {
   "cell_type": "markdown",
   "id": "c72b8041",
   "metadata": {},
   "source": [
    "Create a program that given a random list it shows if it is symmetric or not. If it is, it also have to show how many elements does it have."
   ]
  },
  {
   "cell_type": "code",
   "execution_count": 7,
   "id": "a399bd11",
   "metadata": {},
   "outputs": [],
   "source": [
    "# Function is_symmetric\n",
    "def is_symmetric(list):\n",
    "    # Variables\n",
    "    x = 0 \n",
    "    y = len(list) - 1\n",
    "    n = len(list) // 2\n",
    "    result = True\n",
    "    \n",
    "    # loop to check if elements in x and y position are equal\n",
    "    while result and x <= n:\n",
    "        if list[x] != list[y]:\n",
    "            result = False\n",
    "        x += 1\n",
    "        y -= 1      \n",
    "    return result   \n",
    "\n",
    "# Function random_list\n",
    "import random\n",
    "\n",
    "def generate_rand_list():\n",
    "    # Variables\n",
    "    rand_list = [] \n",
    "    n = random.randint(10,20)\n",
    "\n",
    "    # Iteration to get a list of random numbers\n",
    "    for i in range(n):\n",
    "        x = random.randint(0,9) \n",
    "        rand_list.append(x)\n",
    "    return rand_list"
   ]
  },
  {
   "cell_type": "code",
   "execution_count": 8,
   "id": "6dd61133",
   "metadata": {},
   "outputs": [
    {
     "name": "stdout",
     "output_type": "stream",
     "text": [
      "List symmetric: True\n",
      "List symmetric: False\n"
     ]
    }
   ],
   "source": [
    "#TESTS\n",
    "# Symmetric list\n",
    "symmetric_list = [\"A\",1,2,3,True,True,3,2,1,\"A\"]\n",
    "print(\"List symmetric: {}\".format(is_symmetric(symmetric_list)))\n",
    "\n",
    "# Non symmetric list\n",
    "random_list = generate_rand_list()\n",
    "print(\"List symmetric: {}\".format(is_symmetric(random_list)))\n"
   ]
  },
  {
   "cell_type": "markdown",
   "id": "7a3c0094",
   "metadata": {},
   "source": [
    "## Exercise 5"
   ]
  },
  {
   "cell_type": "markdown",
   "id": "23d867ce",
   "metadata": {},
   "source": [
    "Create a program that given a list of numbers it checks how many of them matches with their postion."
   ]
  },
  {
   "cell_type": "code",
   "execution_count": 9,
   "id": "10b0e219",
   "metadata": {},
   "outputs": [],
   "source": [
    "# Function count_matches\n",
    "def count_matches(list):\n",
    "    count = 0\n",
    "    for i in range(len(list)):\n",
    "        if (list[i] == i):\n",
    "            count += 1\n",
    "    return count"
   ]
  },
  {
   "cell_type": "code",
   "execution_count": 10,
   "id": "2637f29c",
   "metadata": {},
   "outputs": [
    {
     "name": "stdout",
     "output_type": "stream",
     "text": [
      "List matches number: 10/10\n",
      "List matches number: 2/10\n",
      "List matches number: 0/10\n"
     ]
    }
   ],
   "source": [
    "# TESTS\n",
    "# All matches\n",
    "list_1 = [0,1,2,3,4,5,6,7,8,9]\n",
    "print(\"List matches number: {}/{}\".format(count_matches(list_1),len(list_1)))\n",
    "\n",
    "# Some matches\n",
    "list_2 = [0,2,3,4,5,6,7,8,9,9]\n",
    "print(\"List matches number: {}/{}\".format(count_matches(list_2),len(list_2)))\n",
    "\n",
    "#None matches\n",
    "list_3 = [1,2,3,4,5,6,7,8,9,10]\n",
    "print(\"List matches number: {}/{}\".format(count_matches(list_3),len(list_3)))\n"
   ]
  }
 ],
 "metadata": {
  "kernelspec": {
   "display_name": "Python 3 (ipykernel)",
   "language": "python",
   "name": "python3"
  },
  "language_info": {
   "codemirror_mode": {
    "name": "ipython",
    "version": 3
   },
   "file_extension": ".py",
   "mimetype": "text/x-python",
   "name": "python",
   "nbconvert_exporter": "python",
   "pygments_lexer": "ipython3",
   "version": "3.9.12"
  }
 },
 "nbformat": 4,
 "nbformat_minor": 5
}
