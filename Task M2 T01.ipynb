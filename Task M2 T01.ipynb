{
 "cells": [
  {
   "cell_type": "markdown",
   "id": "f8fb3780",
   "metadata": {},
   "source": [
    "# Task M2 T01"
   ]
  },
  {
   "cell_type": "markdown",
   "id": "1d54e39c",
   "metadata": {},
   "source": [
    "## Exercise 1"
   ]
  },
  {
   "cell_type": "markdown",
   "id": "8f44b1ad",
   "metadata": {},
   "source": [
    "Create a list that groups all months of the year by trimesters."
   ]
  },
  {
   "cell_type": "code",
   "execution_count": 1,
   "id": "b7487ffa",
   "metadata": {},
   "outputs": [
    {
     "name": "stdout",
     "output_type": "stream",
     "text": [
      "[['gener', 'febrer', 'març'], ['abril', 'maig', 'juny'], ['juliol', 'agost', 'setembre'], ['octubre', 'novembre', 'desembre']]\n"
     ]
    }
   ],
   "source": [
    "# Create trimester lists and year list\n",
    "firstTrim = list((\"gener\", \"febrer\", \"març\")) # using the list constructor\n",
    "secondTrim = list((\"abril\", \"maig\", \"juny\"))\n",
    "thirdTrim = [\"juliol\", \"agost\", \"setembre\"]\n",
    "fourthTrim = [\"octubre\", \"novembre\", \"desembre\"]\n",
    "year = []\n",
    "\n",
    "# Create list of lists\n",
    "year.append(firstTrim)\n",
    "year.append(secondTrim)\n",
    "year.append(thirdTrim)\n",
    "year.append(fourthTrim)\n",
    "\n",
    "# Print results\n",
    "print(year)"
   ]
  },
  {
   "cell_type": "markdown",
   "id": "5fc55b30",
   "metadata": {},
   "source": [
    "## Exercise 2"
   ]
  },
  {
   "cell_type": "markdown",
   "id": "11d25591",
   "metadata": {},
   "source": [
    "Create some code that allows you to get:\n",
    "- The second month of the first trimester.<br>\n",
    "- All the months of the first trimester.<br>\n",
    "- September and October."
   ]
  },
  {
   "cell_type": "code",
   "execution_count": 2,
   "id": "94ce8f7a",
   "metadata": {},
   "outputs": [
    {
     "name": "stdout",
     "output_type": "stream",
     "text": [
      "febrer\n"
     ]
    }
   ],
   "source": [
    "# Get the second month of the first trimester\n",
    "print(year[0][1]) # index starts at 0. "
   ]
  },
  {
   "cell_type": "code",
   "execution_count": 3,
   "id": "2ba4e796",
   "metadata": {},
   "outputs": [
    {
     "name": "stdout",
     "output_type": "stream",
     "text": [
      "['gener', 'febrer', 'març']\n"
     ]
    }
   ],
   "source": [
    "# Get all the months of the first trimester\n",
    "print(year[0])"
   ]
  },
  {
   "cell_type": "code",
   "execution_count": 4,
   "id": "86a786b1",
   "metadata": {},
   "outputs": [
    {
     "name": "stdout",
     "output_type": "stream",
     "text": [
      "setembre octubre\n"
     ]
    }
   ],
   "source": [
    "# Get September and October.\n",
    "print(year[2][2], year[-1][0]) # -1 index gets the last item in the list."
   ]
  },
  {
   "cell_type": "markdown",
   "id": "952e3927",
   "metadata": {},
   "source": [
    "## Exercise 3"
   ]
  },
  {
   "cell_type": "markdown",
   "id": "a9ade63e",
   "metadata": {},
   "source": [
    "Create a disordered list of numbers and answer the following questions:"
   ]
  },
  {
   "cell_type": "code",
   "execution_count": 5,
   "id": "f2efa36a",
   "metadata": {},
   "outputs": [
    {
     "name": "stdout",
     "output_type": "stream",
     "text": [
      "[4, 9, 8, 5, 0, 6, 2, 7, 5, 8, 4, 5, 6, 6, 0, 9, 7, 8, 3]\n"
     ]
    }
   ],
   "source": [
    "# Modules\n",
    "import random\n",
    "\n",
    "# Variables\n",
    "rand_list = [] \n",
    "n = random.randint(10,20)\n",
    "\n",
    "# Iteration to get a list of random numbers\n",
    "for i in range(n):\n",
    "    x = random.randint(0,9) \n",
    "    rand_list.append(x)\n",
    "    \n",
    "print(rand_list)    "
   ]
  },
  {
   "cell_type": "markdown",
   "id": "66eab4a7",
   "metadata": {},
   "source": [
    "**How many numbers are in the list?**<br>"
   ]
  },
  {
   "cell_type": "code",
   "execution_count": 6,
   "id": "11335a46",
   "metadata": {},
   "outputs": [
    {
     "name": "stdout",
     "output_type": "stream",
     "text": [
      "19\n"
     ]
    }
   ],
   "source": [
    "# len() method - to get the length of a list\n",
    "\n",
    "print(len(rand_list))"
   ]
  },
  {
   "cell_type": "markdown",
   "id": "f0aa4a1c",
   "metadata": {},
   "source": [
    "**How many times appears number 3 in the list?**"
   ]
  },
  {
   "cell_type": "code",
   "execution_count": 7,
   "id": "b3cc4584",
   "metadata": {},
   "outputs": [
    {
     "name": "stdout",
     "output_type": "stream",
     "text": [
      "Count of 3 (iterantion): 1\n",
      "Count of 3 (mehtod): 1\n"
     ]
    }
   ],
   "source": [
    "# Variables\n",
    "threeCount1 = 0\n",
    "threeCount2 = 0\n",
    "\n",
    "# Iteration \n",
    "for i in range(len(rand_list)):\n",
    "    if rand_list[i] == 3:\n",
    "        threeCount1 += 1\n",
    "print(\"Count of 3 (iterantion):\", threeCount1)\n",
    "\n",
    "# Method\n",
    "threeCount2 = rand_list.count(3)\n",
    "print(\"Count of 3 (mehtod):\", threeCount2)"
   ]
  },
  {
   "cell_type": "markdown",
   "id": "4b853c5f",
   "metadata": {},
   "source": [
    "**How many times appears numbers 3 and 4 in the list?**"
   ]
  },
  {
   "cell_type": "code",
   "execution_count": 8,
   "id": "59c88236",
   "metadata": {},
   "outputs": [
    {
     "name": "stdout",
     "output_type": "stream",
     "text": [
      "Count of 3 and 4 (iterantion): 3\n",
      "Count of 3 and 4 (mehtod): 3\n"
     ]
    }
   ],
   "source": [
    "# Variables\n",
    "count1 = 0\n",
    "count2 = 0\n",
    "\n",
    "# Iteraion\n",
    "for i in range(len(rand_list)):\n",
    "    if rand_list[i] == 3 or rand_list[i] == 4:\n",
    "        count1 += 1\n",
    "print(\"Count of 3 and 4 (iterantion):\", count1)\n",
    "\n",
    "# Method\n",
    "count2 = rand_list.count(3) + rand_list.count(4)\n",
    "print(\"Count of 3 and 4 (mehtod):\", count2)"
   ]
  },
  {
   "cell_type": "markdown",
   "id": "21690c69",
   "metadata": {},
   "source": [
    "**Which is the highest number in the list?**"
   ]
  },
  {
   "cell_type": "code",
   "execution_count": 9,
   "id": "cf492d0d",
   "metadata": {},
   "outputs": [
    {
     "name": "stdout",
     "output_type": "stream",
     "text": [
      "9\n"
     ]
    }
   ],
   "source": [
    "# max() method - to return the highest number in a list.\n",
    "\n",
    "print(max(rand_list))"
   ]
  },
  {
   "cell_type": "markdown",
   "id": "00019dd1",
   "metadata": {},
   "source": [
    "**Which are the three lowest numbers in the list?**"
   ]
  },
  {
   "cell_type": "code",
   "execution_count": 10,
   "id": "c62f34d3",
   "metadata": {},
   "outputs": [
    {
     "name": "stdout",
     "output_type": "stream",
     "text": [
      "The first lowest number is: 0\n",
      "The second lowest number is: 2\n",
      "The third lowest number is: 4\n"
     ]
    }
   ],
   "source": [
    "# Variables\n",
    "firstMin = rand_list[0]\n",
    "secondMin = rand_list[0]\n",
    "thirdMin = rand_list[0]\n",
    "\n",
    "# Iteartion to find the lowest min\n",
    "for i in rand_list:\n",
    "    if rand_list[i] < firstMin:\n",
    "        firstMin = rand_list[i]\n",
    "# Iteration to find the second lowest min        \n",
    "for i in rand_list:\n",
    "    if rand_list[i] < secondMin and rand_list[i] > firstMin:\n",
    "        secondMin = rand_list[i]\n",
    "        \n",
    "# Iteration to find the third lowest min  \n",
    "for i in rand_list:\n",
    "    if rand_list[i] < thirdMin and rand_list[i] > secondMin:\n",
    "        thirdMin = rand_list[i]\n",
    "        \n",
    "print(\"The first lowest number is:\", firstMin)\n",
    "print(\"The second lowest number is:\", secondMin)\n",
    "print(\"The third lowest number is:\", thirdMin)"
   ]
  },
  {
   "cell_type": "markdown",
   "id": "17d7d9c6",
   "metadata": {},
   "source": [
    "**Which is the range of this list?**"
   ]
  },
  {
   "cell_type": "code",
   "execution_count": 11,
   "id": "e55aad3a",
   "metadata": {},
   "outputs": [
    {
     "name": "stdout",
     "output_type": "stream",
     "text": [
      "The range of this list is from 0 to 9\n"
     ]
    }
   ],
   "source": [
    "# return the range of a list.\n",
    "\n",
    "print(\"The range of this list is from\", min(rand_list), \"to\", max(rand_list))"
   ]
  },
  {
   "cell_type": "markdown",
   "id": "c9947932",
   "metadata": {},
   "source": [
    "## Exercise 4"
   ]
  },
  {
   "cell_type": "markdown",
   "id": "f38babe5",
   "metadata": {},
   "source": [
    "Create a dictionary and answer the questions."
   ]
  },
  {
   "cell_type": "code",
   "execution_count": 12,
   "id": "9b6b038c",
   "metadata": {},
   "outputs": [],
   "source": [
    "compra = {}\n",
    "pomes = {\"Qty\": 5, \"€\": 0.42}\n",
    "peres = {\"Qty\": 3, \"€\": 0.66}\n",
    "compra = {\n",
    "    \"Pomes\" : pomes,\n",
    "    \"Peres\" : peres\n",
    "}"
   ]
  },
  {
   "cell_type": "markdown",
   "id": "b35b5816",
   "metadata": {},
   "source": [
    "**Add some new fruit.**"
   ]
  },
  {
   "cell_type": "code",
   "execution_count": 13,
   "id": "15bed352",
   "metadata": {},
   "outputs": [],
   "source": [
    "platans = {\"Qty\": 4, \"€\": 0.54}\n",
    "compra[\"Platans\"] = platans"
   ]
  },
  {
   "cell_type": "code",
   "execution_count": 14,
   "id": "722637dc",
   "metadata": {},
   "outputs": [
    {
     "name": "stdout",
     "output_type": "stream",
     "text": [
      "dict_items([('Pomes', {'Qty': 5, '€': 0.42}), ('Peres', {'Qty': 3, '€': 0.66}), ('Platans', {'Qty': 4, '€': 0.54})])\n"
     ]
    }
   ],
   "source": [
    "print(compra.items())"
   ]
  },
  {
   "cell_type": "markdown",
   "id": "d60877f2",
   "metadata": {},
   "source": [
    "**How much have all pears cost?**"
   ]
  },
  {
   "cell_type": "code",
   "execution_count": 15,
   "id": "df060603",
   "metadata": {},
   "outputs": [
    {
     "name": "stdout",
     "output_type": "stream",
     "text": [
      "Total prices is: 1.98€\n"
     ]
    }
   ],
   "source": [
    "pearsCost = compra[\"Peres\"][\"Qty\"] * compra[\"Peres\"][\"€\"]\n",
    "\n",
    "print(\"Total prices is: {}€\".format(pearsCost))"
   ]
  },
  {
   "cell_type": "markdown",
   "id": "42c186f1",
   "metadata": {},
   "source": [
    "**How many pieces of fruit have we bought in total?**"
   ]
  },
  {
   "cell_type": "code",
   "execution_count": 16,
   "id": "624bfb04",
   "metadata": {},
   "outputs": [
    {
     "name": "stdout",
     "output_type": "stream",
     "text": [
      "Total pieces: 12\n"
     ]
    }
   ],
   "source": [
    "totalPieces = 0\n",
    "for value in compra.values():\n",
    "    totalPieces += value[\"Qty\"]\n",
    "\n",
    "print(\"Total pieces: {}\".format(totalPieces))"
   ]
  },
  {
   "cell_type": "markdown",
   "id": "9e037aae",
   "metadata": {},
   "source": [
    "**Which is the most expensive fruit?**"
   ]
  },
  {
   "cell_type": "code",
   "execution_count": 17,
   "id": "0d09670c",
   "metadata": {},
   "outputs": [
    {
     "name": "stdout",
     "output_type": "stream",
     "text": [
      "Peres\n"
     ]
    }
   ],
   "source": [
    "highestPrice = 0\n",
    "for key, value in compra.items():\n",
    "    if value[\"€\"] > highestPrice:\n",
    "        highestPrice = value[\"€\"]\n",
    "        fruit = key\n",
    "print(fruit)"
   ]
  }
 ],
 "metadata": {
  "kernelspec": {
   "display_name": "Python 3 (ipykernel)",
   "language": "python",
   "name": "python3"
  },
  "language_info": {
   "codemirror_mode": {
    "name": "ipython",
    "version": 3
   },
   "file_extension": ".py",
   "mimetype": "text/x-python",
   "name": "python",
   "nbconvert_exporter": "python",
   "pygments_lexer": "ipython3",
   "version": "3.9.12"
  }
 },
 "nbformat": 4,
 "nbformat_minor": 5
}
